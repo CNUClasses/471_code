{
 "cells": [
  {
   "cell_type": "markdown",
   "id": "90d6533b",
   "metadata": {},
   "source": [
    "\n",
    "# Paddy Disease Classification — **PyTorch + timm** and Multi‑Head model\n",
    "\n",
    "This notebook demonstrates a **multi‑task** setup using **PyTorch** and and **[timm](https://github.com/huggingface/pytorch-image-models)** (Torch Image Models) for the Kaggle **Paddy** dataset.\n",
    "\n",
    "1) Set up the environment and choose a timm backbone (`convnext_tiny`).  \n",
    "2) Build a **custom Dataset** reading `train.csv` (`image_id`, `label`, `variety`, `age`).  \n",
    "   - Images are stored in subfolders named by **label** (e.g., `train/<label>/<image_id>`).  \n",
    "   - Each sample returns a tuple: **`(image_tensor, variety_idx, age_float, label_idx)`** as requested.  \n",
    "3) Create DataLoaders with timm‑compatible transforms.  \n",
    "4) Define a **multi‑head model**:  \n",
    "   - Head A → **disease label** classification  \n",
    "   - Head B → **variety** classification  \n",
    "   - Head R → **age** regression  \n",
    "5) Train and evaluate with a minimal, well‑commented loop.\n",
    "\n",
    "> **Note:** Point `DATA_DIR` to your local Kaggle Paddy dataset. \n"
   ]
  },
  {
   "cell_type": "markdown",
   "id": "e712e2b6",
   "metadata": {},
   "source": [
    "## 1) Setup & Configuration"
   ]
  },
  {
   "cell_type": "code",
   "execution_count": 3,
   "id": "0de007fc",
   "metadata": {},
   "outputs": [
    {
     "name": "stdout",
     "output_type": "stream",
     "text": [
      "Device: cuda:1\n"
     ]
    }
   ],
   "source": [
    "\n",
    "# If timm isn't installed, uncomment:\n",
    "# !pip install timm --quiet\n",
    "\n",
    "import os, random, math, time\n",
    "from pathlib import Path\n",
    "\n",
    "import numpy as np\n",
    "import torch\n",
    "import torch.nn as nn\n",
    "import torch.nn.functional as F\n",
    "from torch.utils.data import DataLoader, Dataset, random_split\n",
    "\n",
    "from torchvision import datasets, transforms\n",
    "import timm\n",
    "\n",
    "def set_seed(seed=42):\n",
    "    random.seed(seed)\n",
    "    np.random.seed(seed)\n",
    "    torch.manual_seed(seed)\n",
    "    torch.cuda.manual_seed_all(seed)\n",
    "set_seed(42)\n",
    "\n",
    "DATA_DIR = Path(\"./data/\")  \n",
    "TRAIN_CSV = DATA_DIR / 'train.csv'\n",
    "TRAIN_IMG_ROOT = DATA_DIR   / 'train_images'\n",
    "\n",
    "device = torch.device(\"cuda:1\" if torch.cuda.is_available() else \"cpu\")\n",
    "print(\"Device:\", device)\n",
    "\n",
    "import matplotlib.pyplot as plt\n",
    "import pandas as pd\n",
    "from PIL import Image\n",
    "\n",
    "#this makes sure that colab instances running this notebook can get to included utils_kp.py\n",
    "try:\n",
    "    import utils_kp as ut\n",
    "except ModuleNotFoundError:\n",
    "    !wget https://raw.githubusercontent.com/CNUClasses/471_code/master/week6/utils_kp.py\n",
    "import utils_kp as ut\n",
    " \n",
    "BATCH_SIZE = 256\n",
    "\n",
    "# lr=0.01 #start with this one (its too high see lr finder below)\n",
    "lr=2e-3 #lr finder approved this one\n"
   ]
  },
  {
   "cell_type": "markdown",
   "id": "1c9cb6c1",
   "metadata": {},
   "source": [
    "## 2) Custom Dataset (returns `(image, variety, age, label)`)\n"
   ]
  },
  {
   "cell_type": "code",
   "execution_count": 4,
   "id": "02edd2bf",
   "metadata": {},
   "outputs": [],
   "source": [
    "\n",
    "class PaddyMultitaskDataset(Dataset):\n",
    "    def __init__(self, df, img_root: Path, transform=None):\n",
    "        super().__init__()\n",
    "        self.df = df\n",
    "        self.img_root = Path(img_root)\n",
    "        self.transform = transform\n",
    "\n",
    "        self.labels = sorted(self.df['label'].astype(str).unique())\n",
    "        self.varieties = sorted(self.df['variety'].astype(str).unique())\n",
    "\n",
    "        self.label_to_idx = {s:i for i,s in enumerate(self.labels)}\n",
    "        self.variety_to_idx = {s:i for i,s in enumerate(self.varieties)}\n",
    "        self.df['age'] = pd.to_numeric(self.df['age'], errors='coerce')\n",
    "\n",
    "        #lets get stats so we can normalize age if we want\n",
    "        self.age_mean = float(self.df['age'].mean())\n",
    "        self.age_std = float(self.df['age'].std())\n",
    "        self.num_label_classes = len(self.labels)\n",
    "        self.num_variety_classes = len(self.varieties)\n",
    "\n",
    "    def __len__(self):\n",
    "        return len(self.df)\n",
    "\n",
    "    def __getitem__(self, idx):\n",
    "        row = self.df.iloc[idx]\n",
    "        image_id = str(row['image_id'])\n",
    "        label_name = str(row['label'])\n",
    "        variety_name = str(row['variety'])\n",
    "        age_val = float(row['age'])\n",
    "\n",
    "        #get and normalize image\n",
    "        img_path = self.img_root / label_name / image_id\n",
    "        img = Image.open(img_path).convert('RGB')\n",
    "        if self.transform:\n",
    "            img = self.transform(img)\n",
    "\n",
    "        #get numerical label and variety\n",
    "        y_label = self.label_to_idx[label_name]\n",
    "        y_var = self.variety_to_idx[variety_name]\n",
    "\n",
    "        # normalize age to mean 0 and std 1\n",
    "        y_age = (age_val-self.age_mean) / self.age_std  \n",
    "\n",
    "        return img, torch.tensor(y_var, dtype=torch.long), torch.tensor(y_age, dtype=torch.float32), torch.tensor(y_label, dtype=torch.long)\n"
   ]
  },
  {
   "cell_type": "markdown",
   "id": "08a6049e",
   "metadata": {},
   "source": [
    "\n",
    "## 3) Create datasets with timm transforms \n",
    "\n",
    "Not going to use ImageFolder dataset.  Instead use PaddyMultitaskDataset \n",
    "\n"
   ]
  },
  {
   "cell_type": "code",
   "execution_count": 5,
   "id": "a14265f9",
   "metadata": {},
   "outputs": [],
   "source": [
    "import pprint\n",
    "pp = pprint.PrettyPrinter(indent=4)\n",
    "\n",
    "# MODEL_NAME = \"resnet18\"  # try: 'efficientnet_b0', 'convnext_tiny', 'mobilenetv3_large_100', ...\n",
    "MODEL_NAME = 'convnext_tiny'\n",
    "config = timm.data.resolve_data_config({}, model=MODEL_NAME)\n",
    "train_tfms = timm.data.create_transform(**config, is_training=True, hflip=0.5, auto_augment=None)\n",
    "valid_tfms = timm.data.create_transform(**config, is_training=False)\n"
   ]
  },
  {
   "cell_type": "code",
   "execution_count": 6,
   "id": "f0600bfe",
   "metadata": {},
   "outputs": [
    {
     "name": "stdout",
     "output_type": "stream",
     "text": [
      "Label classes: ['bacterial_leaf_blight', 'bacterial_leaf_streak', 'bacterial_panicle_blight', 'blast', 'brown_spot', 'dead_heart', 'downy_mildew', 'hispa', 'normal', 'tungro']\n",
      "Variety classes: ['ADT45', 'AndraPonni', 'AtchayaPonni', 'IR20', 'KarnatakaPonni', 'Onthanel', 'Ponni', 'RR', 'Surya', 'Zonal']\n",
      "Train/Valid/test sizes: 8327 1040 1040\n"
     ]
    }
   ],
   "source": [
    "#get the split datasets\n",
    "train_df, valid_df, test_df=ut.getdataframes(DATA_DIR, TRAIN_CSV, TRAIN_IMG_ROOT, valid_pct=0.1, test_pct=0.1,verbose=True )\n",
    "\n",
    "train_ds = PaddyMultitaskDataset(train_df, TRAIN_IMG_ROOT, transform=train_tfms)\n",
    "valid_ds = PaddyMultitaskDataset(valid_df,   TRAIN_IMG_ROOT, transform=valid_tfms)\n",
    "test_ds  = PaddyMultitaskDataset(test_df,  TRAIN_IMG_ROOT, transform=valid_tfms)\n",
    "\n",
    "#should be stratified split, but close enough for now\n",
    "# train_ds, valid_ds = random_split(full_ds, [n_train, n_valid], generator=torch.Generator().manual_seed(42))\n",
    "\n",
    "print('Label classes:', train_ds.labels)\n",
    "print('Variety classes:', train_ds.varieties)\n",
    "print('Train/Valid/test sizes:', len(train_ds), len(valid_ds), len(test_ds))\n"
   ]
  },
  {
   "cell_type": "code",
   "execution_count": 7,
   "id": "5e93f40b",
   "metadata": {},
   "outputs": [
    {
     "data": {
      "text/plain": [
       "['bacterial_leaf_blight',\n",
       " 'bacterial_leaf_streak',\n",
       " 'bacterial_panicle_blight',\n",
       " 'blast',\n",
       " 'brown_spot',\n",
       " 'dead_heart',\n",
       " 'downy_mildew',\n",
       " 'hispa',\n",
       " 'normal',\n",
       " 'tungro']"
      ]
     },
     "execution_count": 7,
     "metadata": {},
     "output_type": "execute_result"
    }
   ],
   "source": [
    "class_names=train_ds.labels\n",
    "class_names"
   ]
  },
  {
   "cell_type": "markdown",
   "id": "062f6870",
   "metadata": {},
   "source": [
    "## 3) Create Dataloaders\n",
    "\n",
    "- Shuffle the training loader; keep validation loader deterministic.  \n",
    "- Adjust `BATCH_SIZE` to fit your GPU/CPU memory.\n",
    "\n",
    "This is a datascience competition:<br>\n",
    "the train_images folder contains images with class membership info (in the train.csv file).<br>\n",
    "the test_images folder contains images that your model infers membership on.  These inferences are bundled into a file (see sample_submission.csv) which is submitted for ranking  "
   ]
  },
  {
   "cell_type": "code",
   "execution_count": 8,
   "id": "0afefd74",
   "metadata": {},
   "outputs": [
    {
     "name": "stdout",
     "output_type": "stream",
     "text": [
      "Batch shapes: torch.Size([256, 3, 224, 224]) torch.Size([256]) torch.Size([256]) torch.Size([256])\n"
     ]
    }
   ],
   "source": [
    "\n",
    "BATCH_SIZE = 256\n",
    "train_loader = DataLoader(train_ds, batch_size=BATCH_SIZE, shuffle=True,  num_workers=2, pin_memory=True)\n",
    "valid_loader = DataLoader(valid_ds, batch_size=BATCH_SIZE*2, shuffle=False, num_workers=2, pin_memory=True)\n",
    "test_loader  = DataLoader(test_ds,  batch_size=BATCH_SIZE*2, shuffle=False, num_workers=2, pin_memory=True)\n",
    "\n",
    "xb, y_var, y_age, y_lbl = next(iter(train_loader))\n",
    "print('Batch shapes:', xb.shape, y_var.shape, y_age.shape, y_lbl.shape)\n",
    "\n"
   ]
  },
  {
   "cell_type": "markdown",
   "id": "567303c6",
   "metadata": {},
   "source": [
    "## 4) Load Multi‑head timm Model (Transfer Learning with **timm**)\n",
    "\n",
    "- Create a **pretrained** model with 3 heads, one to predict label, one to predict variety, and one to predict age\n",
    "- **Warm-up:** freeze backbone; train the classifier head first.\n",
    "\n"
   ]
  },
  {
   "cell_type": "code",
   "execution_count": 9,
   "id": "816197a5",
   "metadata": {},
   "outputs": [
    {
     "name": "stdout",
     "output_type": "stream",
     "text": [
      "Trainable params (heads only): 16149\n"
     ]
    }
   ],
   "source": [
    "\n",
    "class MultiHeadNet(nn.Module):\n",
    "    def __init__(self, model_name: str, num_label_classes: int, num_variety_classes: int, pretrained=True):\n",
    "        super().__init__()\n",
    "        self.backbone = timm.create_model(model_name, pretrained=pretrained, num_classes=0, global_pool='avg')\n",
    "        feat_dim = self.backbone.num_features\n",
    "        self.head_label   = nn.Linear(feat_dim, num_label_classes)\n",
    "        self.head_variety = nn.Linear(feat_dim, num_variety_classes)\n",
    "        self.head_age     = nn.Linear(feat_dim, 1)\n",
    "\n",
    "    def forward(self, x):\n",
    "        feats = self.backbone(x)\n",
    "        logits_label   = self.head_label(feats)\n",
    "        logits_variety = self.head_variety(feats)\n",
    "        age_pred       = self.head_age(feats).squeeze(1)\n",
    "        return {'label': logits_label, 'variety': logits_variety, 'age': age_pred}\n",
    "\n",
    "model = MultiHeadNet(MODEL_NAME, train_ds.num_label_classes, train_ds.num_variety_classes, pretrained=True).to(device)\n",
    "\n",
    "for p in model.backbone.parameters():\n",
    "    p.requires_grad = False\n",
    "print('Trainable params (heads only):', sum(p.numel() for p in model.parameters() if p.requires_grad))\n"
   ]
  },
  {
   "cell_type": "code",
   "execution_count": 10,
   "id": "0a411ca2",
   "metadata": {},
   "outputs": [],
   "source": [
    "#check to see the model structure\n",
    "# print(model.backbone)\n",
    "# print(model)"
   ]
  },
  {
   "cell_type": "code",
   "execution_count": 11,
   "id": "ee8d2803",
   "metadata": {},
   "outputs": [],
   "source": [
    "#make sure just training the last layer\n",
    "# for name, p in model.named_parameters():\n",
    "#     print (f'Name={name},p.shape={p.shape}, p.requires_grad = {p.requires_grad}')\n"
   ]
  },
  {
   "cell_type": "markdown",
   "id": "99cdb817",
   "metadata": {},
   "source": [
    "\n",
    "## 5) Optimizer & loss \n"
   ]
  },
  {
   "cell_type": "code",
   "execution_count": 12,
   "id": "36a239fd",
   "metadata": {},
   "outputs": [],
   "source": [
    "\n",
    "criterion = {\n",
    "    'label':   nn.CrossEntropyLoss(),\n",
    "    'variety': nn.CrossEntropyLoss(),\n",
    "    'age':     nn.MSELoss()\n",
    "}\n",
    "loss_weights = {'label': 1.0, 'variety': 0.7, 'age': 0.5}\n",
    "optimizer = torch.optim.AdamW(filter(lambda p: p.requires_grad, model.parameters()), lr=lr)\n"
   ]
  },
  {
   "cell_type": "markdown",
   "id": "368c23d6",
   "metadata": {},
   "source": [
    "# 6) Training & validation loop\n",
    "\n",
    "- Log train/valid **loss** and **accuracy** per epoch.  \n",
    "- warm up heads"
   ]
  },
  {
   "cell_type": "code",
   "execution_count": 13,
   "id": "087df5dc",
   "metadata": {},
   "outputs": [
    {
     "name": "stdout",
     "output_type": "stream",
     "text": [
      "Epoch 01 | train loss=2.8847 tr_acc_label=0.443 tr_acc_variety=0.680 | valid loss=2.0369 va_acc_label=0.622 va_acc_variety=0.714 va_mae_age=0.696\n",
      "Epoch 02 | train loss=2.0492 tr_acc_label=0.596 tr_acc_variety=0.752 | valid loss=1.7100 va_acc_label=0.643 va_acc_variety=0.751 va_mae_age=0.585\n",
      "Epoch 03 | train loss=1.8736 tr_acc_label=0.628 tr_acc_variety=0.779 | valid loss=1.5222 va_acc_label=0.714 va_acc_variety=0.802 va_mae_age=0.566\n",
      "Epoch 04 | train loss=1.7485 tr_acc_label=0.654 tr_acc_variety=0.797 | valid loss=1.4017 va_acc_label=0.736 va_acc_variety=0.809 va_mae_age=0.571\n",
      "Epoch 05 | train loss=1.6760 tr_acc_label=0.670 tr_acc_variety=0.808 | valid loss=1.3235 va_acc_label=0.761 va_acc_variety=0.826 va_mae_age=0.548\n",
      "Epoch 06 | train loss=1.6003 tr_acc_label=0.685 tr_acc_variety=0.819 | valid loss=1.2762 va_acc_label=0.775 va_acc_variety=0.840 va_mae_age=0.560\n",
      "Epoch 07 | train loss=1.5610 tr_acc_label=0.692 tr_acc_variety=0.823 | valid loss=1.2466 va_acc_label=0.774 va_acc_variety=0.852 va_mae_age=0.542\n",
      "Epoch 08 | train loss=1.5327 tr_acc_label=0.704 tr_acc_variety=0.827 | valid loss=1.1919 va_acc_label=0.793 va_acc_variety=0.855 va_mae_age=0.579\n",
      "Epoch 09 | train loss=1.4826 tr_acc_label=0.712 tr_acc_variety=0.837 | valid loss=1.1263 va_acc_label=0.792 va_acc_variety=0.856 va_mae_age=0.529\n",
      "Epoch 10 | train loss=1.4618 tr_acc_label=0.713 tr_acc_variety=0.841 | valid loss=1.1204 va_acc_label=0.804 va_acc_variety=0.869 va_mae_age=0.546\n",
      "Epoch 11 | train loss=1.4394 tr_acc_label=0.714 tr_acc_variety=0.844 | valid loss=1.0947 va_acc_label=0.810 va_acc_variety=0.875 va_mae_age=0.529\n",
      "Epoch 12 | train loss=1.4045 tr_acc_label=0.719 tr_acc_variety=0.850 | valid loss=1.0648 va_acc_label=0.812 va_acc_variety=0.876 va_mae_age=0.525\n",
      "Epoch 13 | train loss=1.4010 tr_acc_label=0.724 tr_acc_variety=0.848 | valid loss=1.0401 va_acc_label=0.821 va_acc_variety=0.879 va_mae_age=0.517\n",
      "Epoch 14 | train loss=1.3849 tr_acc_label=0.733 tr_acc_variety=0.850 | valid loss=1.0649 va_acc_label=0.807 va_acc_variety=0.870 va_mae_age=0.519\n",
      "Epoch 15 | train loss=1.3590 tr_acc_label=0.731 tr_acc_variety=0.855 | valid loss=1.0257 va_acc_label=0.809 va_acc_variety=0.876 va_mae_age=0.524\n",
      "Epoch 16 | train loss=1.3431 tr_acc_label=0.733 tr_acc_variety=0.862 | valid loss=1.0037 va_acc_label=0.824 va_acc_variety=0.876 va_mae_age=0.512\n",
      "Epoch 17 | train loss=1.3286 tr_acc_label=0.737 tr_acc_variety=0.861 | valid loss=1.0656 va_acc_label=0.812 va_acc_variety=0.891 va_mae_age=0.580\n",
      "Epoch 18 | train loss=1.3011 tr_acc_label=0.742 tr_acc_variety=0.869 | valid loss=0.9844 va_acc_label=0.818 va_acc_variety=0.890 va_mae_age=0.510\n",
      "Epoch 19 | train loss=1.3267 tr_acc_label=0.739 tr_acc_variety=0.860 | valid loss=0.9771 va_acc_label=0.812 va_acc_variety=0.895 va_mae_age=0.524\n",
      "Epoch 20 | train loss=1.3276 tr_acc_label=0.741 tr_acc_variety=0.857 | valid loss=1.0357 va_acc_label=0.786 va_acc_variety=0.870 va_mae_age=0.512\n",
      "CPU times: user 2min 41s, sys: 31.5 s, total: 3min 13s\n",
      "Wall time: 14min 3s\n"
     ]
    }
   ],
   "source": [
    "%%time \n",
    "\n",
    "def compute_multitask_loss(outputs, targets, criteria, weights=None):\n",
    "    total = 0.0\n",
    "    for k in ['label', 'variety', 'age']:\n",
    "        w = 1.0 if (weights is None or k not in weights) else weights[k]\n",
    "        total = total + w * criteria[k](outputs[k], targets[k])\n",
    "    return total\n",
    "\n",
    "def train_one_epoch(model, loader, optimizer, criteria, device, weights=None):\n",
    "    model.train()\n",
    "    run_loss= 0.0\n",
    "    correct_label, correct_variety, total = 0, 0, 0\n",
    "    for images, y_var, y_age, y_lbl in loader:\n",
    "        images = images.to(device); y_lbl = y_lbl.to(device); y_var = y_var.to(device); y_age = y_age.to(device)\n",
    "        optimizer.zero_grad(set_to_none=True)\n",
    "        outputs = model(images)  #only feeding in images\n",
    "        loss = compute_multitask_loss(outputs, {'label': y_lbl, 'variety': y_var, 'age': y_age}, criteria, weights)\n",
    "        loss.backward()\n",
    "        optimizer.step()\n",
    "        bs = images.size(0)\n",
    "        run_loss += loss.item() * bs;  \n",
    "        total += bs\n",
    "        correct_label   += (outputs['label'].argmax(1) == y_lbl).sum().item()\n",
    "        correct_variety += (outputs['variety'].argmax(1) == y_var).sum().item()\n",
    "    return run_loss / total, correct_label / total, correct_variety / total\n",
    "\n",
    "@torch.no_grad()\n",
    "def evaluate(model, loader, criteria, device, weights=None):\n",
    "    model.eval()\n",
    "    run_loss= 0.0\n",
    "    correct_label, correct_variety, total, mae_age = 0, 0, 0, 0.0\n",
    "    for images, y_var, y_age, y_lbl in loader:\n",
    "        images = images.to(device); y_lbl = y_lbl.to(device); y_var = y_var.to(device); y_age = y_age.to(device)\n",
    "        outputs = model(images)\n",
    "        loss = compute_multitask_loss(outputs, {'label': y_lbl, 'variety': y_var, 'age': y_age}, criteria, weights)\n",
    "        bs = images.size(0)\n",
    "        run_loss += loss.item() * bs; total += bs\n",
    "        correct_label   += (outputs['label'].argmax(1) == y_lbl).sum().item()\n",
    "        correct_variety += (outputs['variety'].argmax(1) == y_var).sum().item()\n",
    "        mae_age         += torch.abs(outputs['age'] - y_age).sum().item()\n",
    "    return run_loss / total, correct_label / total, correct_variety / total, mae_age / total\n",
    "\n",
    "def train_and_evaluate(model, train_loader, valid_loader, optimizer, criterion, loss_weights=None, num_epochs=10):\n",
    "    for epoch in range(1, num_epochs + 1):\n",
    "        # Train for one epoch\n",
    "        tr_loss, tr_acc_lbl, tr_acc_var = train_one_epoch(model, train_loader, optimizer, criterion, device, weights=loss_weights)\n",
    "\n",
    "        # Evaluate on validation set\n",
    "        va_loss, va_acc_lbl, va_acc_var, va_mae_age = evaluate(model, valid_loader, criterion, device, weights=loss_weights)\n",
    "        print(f\"Epoch {epoch:02d} | train loss={tr_loss:.4f} tr_acc_label={tr_acc_lbl:.3f} tr_acc_variety={tr_acc_var:.3f} | valid loss={va_loss:.4f} va_acc_label={va_acc_lbl:.3f} va_acc_variety={va_acc_var:.3f} va_mae_age={va_mae_age:.3f}\")\n",
    "\n",
    "train_and_evaluate(model, train_loader, valid_loader, optimizer, criterion, loss_weights=loss_weights, num_epochs=20)\n"
   ]
  },
  {
   "cell_type": "markdown",
   "id": "1434193c",
   "metadata": {},
   "source": []
  },
  {
   "cell_type": "markdown",
   "id": "7e2bf918",
   "metadata": {},
   "source": []
  },
  {
   "cell_type": "code",
   "execution_count": 14,
   "id": "72f395f4",
   "metadata": {},
   "outputs": [
    {
     "name": "stdout",
     "output_type": "stream",
     "text": [
      "loss=1.0320 acc_label=0.809 acc_variety=0.870\n"
     ]
    }
   ],
   "source": [
    "def eval(loader=test_loader):\n",
    "    run_loss, correct_label, correct_variety, mae_age = evaluate(model, loader, criterion, device, weights=loss_weights)\n",
    "    print(f\"loss={run_loss:.4f} acc_label={correct_label:.3f} acc_variety={correct_variety:.3f}\")\n",
    "\n",
    "eval()"
   ]
  },
  {
   "cell_type": "markdown",
   "id": "e2b06063",
   "metadata": {},
   "source": [
    "### (Optional) Fine-tune the whole network\n",
    "\n",
    "After warming up the head, unfreeze the backbone and fine-tune at a **smaller LR**."
   ]
  },
  {
   "cell_type": "code",
   "execution_count": 15,
   "id": "2b3ec264",
   "metadata": {},
   "outputs": [
    {
     "name": "stdout",
     "output_type": "stream",
     "text": [
      "Epoch 01 | train loss=1.2610 tr_acc_label=0.751 tr_acc_variety=0.874 | valid loss=0.9285 va_acc_label=0.828 va_acc_variety=0.896 va_mae_age=0.507\n",
      "Epoch 02 | train loss=1.2446 tr_acc_label=0.761 tr_acc_variety=0.870 | valid loss=0.9224 va_acc_label=0.830 va_acc_variety=0.895 va_mae_age=0.504\n",
      "Epoch 03 | train loss=1.2403 tr_acc_label=0.759 tr_acc_variety=0.876 | valid loss=0.9207 va_acc_label=0.837 va_acc_variety=0.897 va_mae_age=0.503\n",
      "Epoch 04 | train loss=1.2352 tr_acc_label=0.758 tr_acc_variety=0.875 | valid loss=0.9171 va_acc_label=0.829 va_acc_variety=0.902 va_mae_age=0.506\n",
      "Epoch 05 | train loss=1.2510 tr_acc_label=0.755 tr_acc_variety=0.871 | valid loss=0.9187 va_acc_label=0.835 va_acc_variety=0.906 va_mae_age=0.504\n",
      "Epoch 06 | train loss=1.2319 tr_acc_label=0.759 tr_acc_variety=0.878 | valid loss=0.9170 va_acc_label=0.838 va_acc_variety=0.897 va_mae_age=0.503\n",
      "Epoch 07 | train loss=1.2369 tr_acc_label=0.761 tr_acc_variety=0.875 | valid loss=0.9137 va_acc_label=0.833 va_acc_variety=0.902 va_mae_age=0.502\n",
      "Epoch 08 | train loss=1.2294 tr_acc_label=0.757 tr_acc_variety=0.875 | valid loss=0.9143 va_acc_label=0.835 va_acc_variety=0.900 va_mae_age=0.500\n",
      "Epoch 09 | train loss=1.2251 tr_acc_label=0.762 tr_acc_variety=0.874 | valid loss=0.9117 va_acc_label=0.834 va_acc_variety=0.901 va_mae_age=0.500\n",
      "Epoch 10 | train loss=1.2304 tr_acc_label=0.761 tr_acc_variety=0.873 | valid loss=0.9126 va_acc_label=0.835 va_acc_variety=0.902 va_mae_age=0.504\n",
      "Epoch 11 | train loss=1.2401 tr_acc_label=0.756 tr_acc_variety=0.876 | valid loss=0.9117 va_acc_label=0.838 va_acc_variety=0.895 va_mae_age=0.500\n",
      "Epoch 12 | train loss=1.2244 tr_acc_label=0.765 tr_acc_variety=0.884 | valid loss=0.9068 va_acc_label=0.838 va_acc_variety=0.902 va_mae_age=0.506\n",
      "Epoch 13 | train loss=1.2116 tr_acc_label=0.765 tr_acc_variety=0.878 | valid loss=0.9051 va_acc_label=0.837 va_acc_variety=0.898 va_mae_age=0.500\n",
      "Epoch 14 | train loss=1.2054 tr_acc_label=0.765 tr_acc_variety=0.877 | valid loss=0.9073 va_acc_label=0.841 va_acc_variety=0.909 va_mae_age=0.501\n",
      "Epoch 15 | train loss=1.2297 tr_acc_label=0.761 tr_acc_variety=0.881 | valid loss=0.9064 va_acc_label=0.838 va_acc_variety=0.902 va_mae_age=0.498\n",
      "Epoch 16 | train loss=1.1986 tr_acc_label=0.762 tr_acc_variety=0.877 | valid loss=0.9052 va_acc_label=0.838 va_acc_variety=0.901 va_mae_age=0.506\n",
      "Epoch 17 | train loss=1.2101 tr_acc_label=0.766 tr_acc_variety=0.877 | valid loss=0.8976 va_acc_label=0.837 va_acc_variety=0.901 va_mae_age=0.503\n",
      "Epoch 18 | train loss=1.2093 tr_acc_label=0.765 tr_acc_variety=0.878 | valid loss=0.8993 va_acc_label=0.840 va_acc_variety=0.904 va_mae_age=0.500\n",
      "Epoch 19 | train loss=1.2179 tr_acc_label=0.763 tr_acc_variety=0.876 | valid loss=0.9028 va_acc_label=0.834 va_acc_variety=0.903 va_mae_age=0.504\n",
      "Epoch 20 | train loss=1.2131 tr_acc_label=0.763 tr_acc_variety=0.880 | valid loss=0.9018 va_acc_label=0.838 va_acc_variety=0.909 va_mae_age=0.503\n",
      "CPU times: user 8min 35s, sys: 31.3 s, total: 9min 6s\n",
      "Wall time: 14min 17s\n"
     ]
    }
   ],
   "source": [
    "%%time \n",
    "\n",
    "# train the whole thing (unfreeze all layers)\n",
    "for p in model.parameters():\n",
    "    p.requires_grad = True\n",
    "\n",
    "#make lr smaller for fine-tuning\n",
    "lr1=lr/10\n",
    "\n",
    "#change learning rate for fine-tuning\n",
    "for g in optimizer.param_groups:\n",
    "    g['lr'] = lr1\n",
    "\n",
    "train_and_evaluate(model, train_loader, valid_loader, optimizer, criterion, loss_weights=loss_weights, num_epochs=20)\n"
   ]
  },
  {
   "cell_type": "markdown",
   "id": "a433be9f",
   "metadata": {},
   "source": [
    "## 7) Save / Load model"
   ]
  },
  {
   "cell_type": "code",
   "execution_count": 19,
   "id": "829b6ee4",
   "metadata": {},
   "outputs": [
    {
     "name": "stdout",
     "output_type": "stream",
     "text": [
      "Saved to kaggle_paddy_timm_multihead.pth\n"
     ]
    },
    {
     "name": "stderr",
     "output_type": "stream",
     "text": [
      "/tmp/ipykernel_3867980/3246647191.py:3: FutureWarning: You are using `torch.load` with `weights_only=False` (the current default value), which uses the default pickle module implicitly. It is possible to construct malicious pickle data which will execute arbitrary code during unpickling (See https://github.com/pytorch/pytorch/blob/main/SECURITY.md#untrusted-models for more details). In a future release, the default value for `weights_only` will be flipped to `True`. This limits the functions that could be executed during unpickling. Arbitrary objects will no longer be allowed to be loaded via this mode unless they are explicitly allowlisted by the user via `torch.serialization.add_safe_globals`. We recommend you start setting `weights_only=True` for any use case where you don't have full control of the loaded file. Please open an issue on GitHub for any issues related to this experimental feature.\n",
      "  model.load_state_dict(torch.load('kaggle_paddy_timm_multihead.pth', map_location=device))\n"
     ]
    },
    {
     "data": {
      "text/plain": [
       "<All keys matched successfully>"
      ]
     },
     "execution_count": 19,
     "metadata": {},
     "output_type": "execute_result"
    }
   ],
   "source": [
    "\n",
    "torch.save(model.state_dict(), 'kaggle_paddy_timm_multihead.pth')\n",
    "print('Saved to kaggle_paddy_timm_multihead.pth')\n",
    "model.load_state_dict(torch.load('kaggle_paddy_timm_multihead.pth', map_location=device))\n",
    "\n"
   ]
  },
  {
   "cell_type": "markdown",
   "id": "2b291e5f",
   "metadata": {},
   "source": [
    "## 8) Evaluation & Confusion Matrix\n",
    "\n",
    "Evaluate the model on the test_loader.  This is the **only** time the model sees this loader"
   ]
  },
  {
   "cell_type": "code",
   "execution_count": 17,
   "id": "05a1a0c6",
   "metadata": {},
   "outputs": [],
   "source": [
    "LOADER=test_loader"
   ]
  },
  {
   "cell_type": "code",
   "execution_count": 18,
   "id": "ef2af28e",
   "metadata": {},
   "outputs": [
    {
     "name": "stdout",
     "output_type": "stream",
     "text": [
      "Confusion Matrix (6x6 for PaddyDoctor):\n",
      "[[ 30   1   0   6   3   0   2   2   2  11]\n",
      " [  0  36   0   3   4   0   0   0   0   1]\n",
      " [  0   0  38   0   0   1   0   0   0   0]\n",
      " [  0   0   0 144   4   0   2   3   2   9]\n",
      " [  0   1   0   7  81   0   5   1   3   1]\n",
      " [  0   0   4   1   2 135   0   0   0   1]\n",
      " [  1   0   0   8   0   0  47   2   3   6]\n",
      " [  1   0   0   9   1   1   2 114  15   2]\n",
      " [  0   0   4   1   2   1   0   5 160   1]\n",
      " [  2   0   0   5   0   1   3   8   0  89]]\n",
      "\n",
      "Per-class (precision, recall, f1):\n",
      "bacterial_leaf_blight: P=0.882 R=0.526 F1=0.659\n",
      "bacterial_leaf_streak: P=0.947 R=0.818 F1=0.878\n",
      "bacterial_panicle_blight: P=0.826 R=0.974 F1=0.894\n",
      "     blast: P=0.783 R=0.878 F1=0.828\n",
      "brown_spot: P=0.835 R=0.818 F1=0.827\n",
      "dead_heart: P=0.971 R=0.944 F1=0.957\n",
      "downy_mildew: P=0.770 R=0.701 F1=0.734\n",
      "     hispa: P=0.844 R=0.786 F1=0.814\n",
      "    normal: P=0.865 R=0.920 F1=0.891\n",
      "    tungro: P=0.736 R=0.824 F1=0.777\n",
      "\n",
      "Macro avg: P=0.846 R=0.819 F1=0.826\n",
      "Overall Accuracy: 0.840\n"
     ]
    }
   ],
   "source": [
    "\n",
    "@torch.no_grad()\n",
    "def get_all_preds_targets(model, loader):\n",
    "    model.eval()\n",
    "    preds, targs = [], []\n",
    "    for xb,_,_,yb in loader:\n",
    "        xb = xb.to(device)\n",
    "        logits = model(xb)\n",
    "\n",
    "        #just want the label preds\n",
    "        preds.append(logits['label'].argmax(1).cpu().numpy())\n",
    "        targs.append(yb.numpy())\n",
    "    return np.concatenate(preds), np.concatenate(targs)\n",
    "\n",
    "preds, targs = get_all_preds_targets(model, LOADER)\n",
    "\n",
    "# Confusion matrix\n",
    "num_classes = len(class_names)\n",
    "cm = np.zeros((num_classes, num_classes), dtype=int)\n",
    "for t, p in zip(targs, preds):\n",
    "    cm[t, p] += 1\n",
    "\n",
    "print('Confusion Matrix (6x6 for PaddyDoctor):')\n",
    "print(cm)\n",
    "\n",
    "# Per-class metrics\n",
    "per_class = []\n",
    "for k in range(num_classes):\n",
    "    TP = cm[k,k]\n",
    "    FP = cm[:,k].sum() - TP\n",
    "    FN = cm[k,:].sum() - TP\n",
    "    TN = cm.sum() - TP - FP - FN\n",
    "    prec = TP/(TP+FP) if (TP+FP)>0 else 0.0\n",
    "    rec  = TP/(TP+FN) if (TP+FN)>0 else 0.0\n",
    "    f1   = (2*prec*rec)/(prec+rec) if (prec+rec)>0 else 0.0\n",
    "    per_class.append((prec, rec, f1))\n",
    "\n",
    "macro_p = float(np.mean([p for p,_,_ in per_class]))\n",
    "macro_r = float(np.mean([r for _,r,_ in per_class]))\n",
    "macro_f = float(np.mean([f for _,_,f in per_class]))\n",
    "overall_acc = float((preds == targs).mean())\n",
    "\n",
    "print('\\nPer-class (precision, recall, f1):')\n",
    "for name,(p,r,f) in zip(class_names, per_class):\n",
    "    print(f'{name:>10s}: P={p:.3f} R={r:.3f} F1={f:.3f}')\n",
    "print(f\"\\nMacro avg: P={macro_p:.3f} R={macro_r:.3f} F1={macro_f:.3f}\")\n",
    "print(f'Overall Accuracy: {overall_acc:.3f}')\n"
   ]
  }
 ],
 "metadata": {
  "kernelspec": {
   "display_name": "p311",
   "language": "python",
   "name": "python3"
  },
  "language_info": {
   "codemirror_mode": {
    "name": "ipython",
    "version": 3
   },
   "file_extension": ".py",
   "mimetype": "text/x-python",
   "name": "python",
   "nbconvert_exporter": "python",
   "pygments_lexer": "ipython3",
   "version": "3.11.9"
  }
 },
 "nbformat": 4,
 "nbformat_minor": 5
}
