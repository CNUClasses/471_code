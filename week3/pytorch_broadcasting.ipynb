{
 "cells": [
  {
   "cell_type": "markdown",
   "id": "87500191",
   "metadata": {},
   "source": [
    "\n",
    "# PyTorch Broadcasting: A Practical Mini-Notebook\n",
    "\n",
    "**Goal:** Build intuition for PyTorch broadcasting—what it is, when it works, when it fails—and practice with short exercises.\n",
    "\n",
    "**You will learn to:**\n",
    "- Read and reason about tensor shapes\n",
    "- Apply broadcasting rules correctly\n",
    "- Use `unsqueeze`, `None` indexing, and `expand`/`expand_as`\n",
    "- Spot & fix common broadcasting bugs (wrong axes, accidental duplication, shape mismatch)\n"
   ]
  },
  {
   "cell_type": "markdown",
   "id": "e4446b26",
   "metadata": {},
   "source": [
    "## Setup"
   ]
  },
  {
   "cell_type": "code",
   "execution_count": null,
   "id": "26461f3f",
   "metadata": {},
   "outputs": [],
   "source": [
    "\n",
    "import torch\n",
    "torch.__version__, torch.cuda.is_available()\n"
   ]
  },
  {
   "cell_type": "code",
   "execution_count": null,
   "id": "0d572cb4",
   "metadata": {},
   "outputs": [],
   "source": [
    "x=torch.ones(2)\n",
    "x=torch.unsqueeze(x,1)\n",
    "print(x.shape)\n",
    "# x=torch.squeeze(x,1)  #dumps the dimension if the dimension is 1\n",
    "x=x.squeeze(1)          #same thing\n",
    "print(x.shape)"
   ]
  },
  {
   "cell_type": "markdown",
   "id": "56f41dd7",
   "metadata": {},
   "source": [
    "\n",
    "## Broadcasting in a Nutshell\n",
    "\n",
    "**Equal Number of Dimensions:** If the tensors have a different number of dimensions, PyTorch implicitly adds leading (left-side) dimensions of size 1 to the tensor with fewer dimensions until both tensors have the same number of dimensions.\n",
    "\n",
    "**Compatibility rule (right-aligned):** Compare shapes from **right to left**. For each axis pair:\n",
    "- If they are **equal**, they're compatible on that axis.\n",
    "- If **one is 1**, it's broadcast (virtually repeated) to match the other.\n",
    "- Otherwise, shapes are **incompatible** → runtime error.\n",
    "\n",
    "**Key tools & idioms**\n",
    "- `x.unsqueeze(dim)` / `x[:, None, ...]` to create size-1 axes\n",
    "\n",
    "**Important:** Broadcasting is **virtual**—no memory copies\n"
   ]
  },
  {
   "cell_type": "markdown",
   "id": "2b2cd858",
   "metadata": {},
   "source": [
    "## Quick Demos"
   ]
  },
  {
   "cell_type": "code",
   "execution_count": null,
   "id": "6e098444",
   "metadata": {},
   "outputs": [],
   "source": [
    "\n",
    "# Demo 1: Add [B, D] and [D] -> [B, D]\n",
    "B, D = 4, 3\n",
    "x = torch.arange(B*D, dtype=torch.float32).reshape(B, D)\n",
    "print(x)\n",
    "b = torch.tensor([10.0, 20.0, 30.0])   # shape [D]\n",
    "y = x + b\n",
    "print(\"x.shape:\", x.shape, \"| b.shape:\", b.shape, \"| y.shape:\", y.shape)\n",
    "print(y)\n"
   ]
  },
  {
   "cell_type": "code",
   "execution_count": null,
   "id": "853ef90e",
   "metadata": {},
   "outputs": [],
   "source": [
    "\n",
    "# Demo 2: Add [B, D] and [B, 1] -> [B, D]\n",
    "x = torch.arange(12.0).reshape(4, 3)\n",
    "row_bias = torch.tensor([[100.0],[200.0],[300.0],[400.0]])\n",
    "y = x + row_bias\n",
    "print(\"x.shape:\", x.shape, \"| row_bias.shape:\", row_bias.shape, \"| y.shape:\", y.shape)\n",
    "print(y)\n"
   ]
  },
  {
   "cell_type": "code",
   "execution_count": null,
   "id": "64e8f6f3",
   "metadata": {},
   "outputs": [],
   "source": [
    "\n",
    "# Demo 3: Using unsqueeze to align axes\n",
    "x = torch.arange(12.0).reshape(4, 3)         # [4, 3]\n",
    "col = torch.tensor([1.0, 2.0, 3.0, 4.0])     # [4]\n",
    "y_bad = None\n",
    "try:\n",
    "    y_bad = x + col          # incompatible: [4,3] + [4]\n",
    "except Exception as e:\n",
    "    print(\"As expected, this fails:\", e)\n",
    "\n",
    "# Fix via unsqueeze at axis 1 (-> [4,1])\n",
    "y_ok = x + col.unsqueeze(1)\n",
    "print(\"Fixed:\", y_ok.shape)\n",
    "print(y_ok)\n"
   ]
  },
  {
   "cell_type": "markdown",
   "id": "18e97254",
   "metadata": {},
   "source": [
    "\n",
    "### Example: NCHW Images (Batch, Channels, Height, Width)\n",
    "\n",
    "Common pattern: apply per-channel bias/scale to an image batch `x` with shape `[N, C, H, W]`.\n"
   ]
  },
  {
   "cell_type": "code",
   "execution_count": null,
   "id": "2b453de5",
   "metadata": {},
   "outputs": [],
   "source": [
    "\n",
    "N, C, H, W = 2, 3, 4, 5\n",
    "x = torch.randn(N, C, H, W)\n",
    "scale_c = torch.tensor([0.5, 2.0, 1.5])     \n",
    "bias_c  = torch.tensor([0.1, -0.2, 0.0])    \n",
    "print(\"x:\", x.shape, \"scale_c:\", scale_c.shape, \"bias_c:\", bias_c.shape)\n",
    "\n",
    "# Broadcast to [N, C, H, W] by inserting singleton axes: [1, C, 1, 1]\n",
    "scale_c_s=scale_c[None, :, None, None]\n",
    "bias_c_s=bias_c[None, :, None, None]\n",
    "print(\"scale_c_s:\", scale_c_s.shape, \"bias_c_s:\", bias_c_s.shape)\n",
    "print(scale_c_s)\n",
    "\n",
    "y = x * scale_c_s + bias_c_s\n",
    "print(\"x:\", x.shape, \"y:\", y.shape)\n"
   ]
  },
  {
   "cell_type": "markdown",
   "id": "1c93e759",
   "metadata": {},
   "source": [
    "\n",
    "## Common Pitfalls & Fixes\n",
    "\n",
    "1) **Wrong axis alignment:** Added dimension on wrong axis so operation fails.\n",
    "- **Fix:** `unsqueeze` (or `None`) in the correct axis.\n",
    "\n",
    "2) **Incompatible shapes:** Read from right to left; insert 1-sized axes where needed.\n"
   ]
  },
  {
   "cell_type": "markdown",
   "id": "dc840379",
   "metadata": {},
   "source": [
    "## Exercise"
   ]
  },
  {
   "cell_type": "markdown",
   "id": "900c9d43",
   "metadata": {},
   "source": [
    "\n",
    "### Row/Column Normalization (5–7 min)\n",
    "\n",
    "Given `X` with shape `[B, D]`:\n",
    "1. Compute **column-wise** mean and std → shapes `[D]`.\n",
    "2. Normalize `X` to `Z = (X - mean) / std` using **broadcasting** (no loops).\n",
    "\n",
    "**Starter code (fill the TODOs):**\n"
   ]
  },
  {
   "cell_type": "code",
   "execution_count": null,
   "id": "1466f5f1",
   "metadata": {},
   "outputs": [],
   "source": [
    "\n",
    "torch.manual_seed(0)\n",
    "B, D = 5, 4\n",
    "X = torch.randn(B, D)\n",
    "# 1) column-wise mean/std\n",
    "column_mean = X.mean(dim=0)              # [D]\n",
    "column_std  = X.std(dim=0)              # [D]\n",
    "print(f'column_mean={column_mean}, column_mean.shape={column_mean.shape}')\n",
    "print(f'Manual check of 0th column mean X[:,0].mean()={X[:,0].mean()}')\n",
    "print(f'column_std={column_std}, column_std.shape={column_std.shape}\\n')\n",
    "\n",
    "# 2) Column-wise normalization: Z_feat = (X - column_mean) / column_std\n",
    "# TODO: broadcast subtraction/division correctly\n",
    "# Z_feat = ...\n",
    "\n",
    "# 3) Row-wise (per sample) normalization: Z_row\n",
    "row_mean = X.mean(dim=1, keepdim=True) # [B, 1]\n",
    "row_std  = X.std(dim=1, keepdim=True)  # [B, 1]\n",
    "# # TODO: compute Z_row\n",
    "# Z_row = ...\n",
    "\n",
    "# Quick checks (should be ~0 and ~1; small numeric devs OK)\n",
    "# print(\"Column-wise mean ~0:\", Z_feat.mean(dim=0))\n",
    "# print(\"Column-wise std  ~1:\", Z_feat.std(dim=0))\n",
    "# print(\"Row-wise mean    ~0:\", Z_row.mean(dim=1))\n",
    "# print(\"Row-wise std     ~1:\", Z_row.std(dim=1))\n"
   ]
  },
  {
   "cell_type": "markdown",
   "id": "a06cc3f7",
   "metadata": {},
   "source": [
    "---\n",
    "## Solution (reveal after attempting)"
   ]
  },
  {
   "cell_type": "markdown",
   "id": "08e3dfb8",
   "metadata": {},
   "source": [
    "### Solution:"
   ]
  },
  {
   "cell_type": "code",
   "execution_count": null,
   "id": "e5b09763",
   "metadata": {},
   "outputs": [],
   "source": [
    "\n",
    "torch.manual_seed(0)\n",
    "B, D = 5, 4\n",
    "X = torch.randn(B, D)\n",
    "# 1) column-wise mean/std\n",
    "column_mean = X.mean(dim=0)              # [D]\n",
    "column_std  = X.std(dim=0)              # [D]\n",
    "print(f'column_mean={column_mean}, column_mean.shape={column_mean.shape}')\n",
    "print(f'Manual check of 0th column mean X[:,0].mean()={X[:,0].mean()}')\n",
    "print(f'column_std={column_std}, column_std.shape={column_std.shape}\\n')\n",
    "\n",
    "\n",
    "# 2) Column-wise normalization: Z_feat = (X - column_mean) / column_std\n",
    "# TODO: broadcast subtraction/division correctly\n",
    "Z_feat = (X - column_mean[None, :]) / column_std[None, :]\n",
    "# or\n",
    "# Z_feat = (X - column_mean.unsqueeze(0)) / column_std.unsqueeze(0)\n",
    "\n",
    "# 3) Row-wise (per sample) normalization: Z_row\n",
    "row_mean = X.mean(dim=1, keepdim=True)       # [B, 1]\n",
    "row_std  = X.std(dim=1, keepdim=True)  # [B, 1]\n",
    "# # TODO: compute Z_row\n",
    "Z_row = (X - row_mean) / row_std\n",
    "\n",
    "# Quick checks (should be ~0 and ~1; small numeric devs OK)\n",
    "print(\"Column-wise mean ~0:\", Z_feat.mean(dim=0))\n",
    "print(\"Column-wise std  ~1:\", Z_feat.std(dim=0))\n",
    "print(\"Row-wise mean    ~0:\", Z_row.mean(dim=1))\n",
    "print(\"Row-wise std     ~1:\", Z_row.std(dim=1))\n"
   ]
  }
 ],
 "metadata": {
  "kernelspec": {
   "display_name": "p311",
   "language": "python",
   "name": "python3"
  },
  "language_info": {
   "codemirror_mode": {
    "name": "ipython",
    "version": 3
   },
   "file_extension": ".py",
   "mimetype": "text/x-python",
   "name": "python",
   "nbconvert_exporter": "python",
   "pygments_lexer": "ipython3",
   "version": "3.11.5"
  }
 },
 "nbformat": 4,
 "nbformat_minor": 5
}
