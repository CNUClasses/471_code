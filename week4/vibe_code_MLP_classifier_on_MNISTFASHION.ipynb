{
 "cells": [
  {
   "cell_type": "markdown",
   "id": "8015d762",
   "metadata": {},
   "source": [
    "\n",
    "# PyTorch MLP classification using mostly prompting\n",
    "\n",
    "This notebook loads the MNIST Fashion dataset for classification<br>  Then trains a small MLP classifier on it.<br>\n",
    "\n",
    "If using VS code with the Github Copilot plugin please select GPT-50 mini as your LLM.  ALso ctrl-i calls up the copilot textbox<br>\n",
    "\n"
   ]
  },
  {
   "cell_type": "markdown",
   "id": "664ece75",
   "metadata": {},
   "source": [
    "## 1) Setup"
   ]
  },
  {
   "cell_type": "code",
   "execution_count": null,
   "id": "6b9890d7",
   "metadata": {},
   "outputs": [],
   "source": [
    "\n",
    "import math, random\n",
    "import numpy as np\n",
    "import torch\n",
    "import torch.nn as nn\n",
    "from torch.utils.data import TensorDataset, DataLoader\n",
    "import matplotlib.pyplot as plt\n",
    "\n",
    "torch.manual_seed(42)\n",
    "np.random.seed(42)\n",
    "random.seed(42)\n",
    "device = torch.device('cuda' if torch.cuda.is_available() else 'cpu')\n",
    "device\n"
   ]
  },
  {
   "cell_type": "markdown",
   "id": "72b29e3e",
   "metadata": {},
   "source": [
    "## 2) Load dataset"
   ]
  },
  {
   "cell_type": "code",
   "execution_count": null,
   "id": "88446c0b",
   "metadata": {},
   "outputs": [],
   "source": [
    "#prompt # load the MNIST train and test dataset using pytorch \n"
   ]
  },
  {
   "cell_type": "markdown",
   "id": "a15841f0",
   "metadata": {},
   "source": [
    "### Look at the first image and its label"
   ]
  },
  {
   "cell_type": "code",
   "execution_count": null,
   "id": "c875155b",
   "metadata": {},
   "outputs": [],
   "source": [
    "# prompt: display the first image in the train_dataset and its label\n"
   ]
  },
  {
   "cell_type": "markdown",
   "id": "e03a216f",
   "metadata": {},
   "source": [
    "### Is it balanced? (eyeball audit here)"
   ]
  },
  {
   "cell_type": "code",
   "execution_count": null,
   "id": "f058ff00",
   "metadata": {},
   "outputs": [],
   "source": [
    "# prompt: is the dataset balanced? Show a histogram of the number of samples per class in the train_dataset\n",
    "#second prompt:print the number of samples at the top of each bar\n"
   ]
  },
  {
   "cell_type": "markdown",
   "id": "3e1e328f",
   "metadata": {},
   "source": [
    "## 3) Feature scaling (normalization)\n",
    "\n",
    "Note that there are no for loops, vectorized operations only"
   ]
  },
  {
   "cell_type": "code",
   "execution_count": null,
   "id": "0b4af774",
   "metadata": {},
   "outputs": [],
   "source": [
    "#prompt:  compute mean and std from  training data only, use to normalize train and test sets"
   ]
  },
  {
   "cell_type": "code",
   "execution_count": null,
   "id": "20ea7ea3",
   "metadata": {},
   "outputs": [],
   "source": [
    "# prompt: verify that the train and test sets have been normalized correctly by computing their mean and std\n"
   ]
  },
  {
   "cell_type": "markdown",
   "id": "b7bf24dc",
   "metadata": {},
   "source": [
    "### Wrap the datasets with DataLoaders"
   ]
  },
  {
   "cell_type": "code",
   "execution_count": null,
   "id": "d2f3b67f",
   "metadata": {},
   "outputs": [],
   "source": [
    "# prompt: create dataloaders from the 2 datasets with batch size 128 and shuffling the training data"
   ]
  },
  {
   "cell_type": "markdown",
   "id": "5ea80d25",
   "metadata": {},
   "source": [
    "## 4) Define the MLP model\n",
    "\n",
    "torch.nn has the classes necessary for building Neural Networks "
   ]
  },
  {
   "cell_type": "code",
   "execution_count": null,
   "id": "8c040db7",
   "metadata": {},
   "outputs": [],
   "source": [
    "# prompt: define a MLP to classify the mnist dataset, use crossentropy and adam optimizer\n"
   ]
  },
  {
   "cell_type": "code",
   "execution_count": null,
   "id": "03782bb8",
   "metadata": {},
   "outputs": [],
   "source": [
    "# prompt: how many trainable parameters does this model have?\n"
   ]
  },
  {
   "cell_type": "markdown",
   "id": "885b31e7",
   "metadata": {},
   "source": [
    "## 5) Train and evaluate functions\n"
   ]
  },
  {
   "cell_type": "code",
   "execution_count": null,
   "id": "a7635960",
   "metadata": {},
   "outputs": [],
   "source": [
    "# prompt:train the model for 5 epochs and report the train and test accuracy after each epoch, plot the train and test accuracy curves\n"
   ]
  },
  {
   "cell_type": "markdown",
   "id": "fce92d25",
   "metadata": {},
   "source": [
    "### Checkpointing (save & load)"
   ]
  },
  {
   "cell_type": "code",
   "execution_count": null,
   "id": "735320e1",
   "metadata": {},
   "outputs": [],
   "source": [
    "## 6)prompt: save and load the trained model"
   ]
  },
  {
   "cell_type": "markdown",
   "id": "c9fa8449",
   "metadata": {},
   "source": [
    "## 6) What did the model get wrong?\n"
   ]
  },
  {
   "cell_type": "code",
   "execution_count": null,
   "id": "e2522436",
   "metadata": {},
   "outputs": [],
   "source": [
    "#prompt: show ten misclassified test images with predicted and true labels\n"
   ]
  },
  {
   "cell_type": "code",
   "execution_count": null,
   "id": "f3dc31df",
   "metadata": {},
   "outputs": [],
   "source": [
    "# prompt:show me the 10 images in the test set that the model was the most confidently wrong on, base this on the crossentropy loss\n"
   ]
  }
 ],
 "metadata": {
  "kernelspec": {
   "display_name": "p311",
   "language": "python",
   "name": "python3"
  },
  "language_info": {
   "codemirror_mode": {
    "name": "ipython",
    "version": 3
   },
   "file_extension": ".py",
   "mimetype": "text/x-python",
   "name": "python",
   "nbconvert_exporter": "python",
   "pygments_lexer": "ipython3",
   "version": "3.11.5"
  }
 },
 "nbformat": 4,
 "nbformat_minor": 5
}
