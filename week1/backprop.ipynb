{
 "cells": [
  {
   "cell_type": "markdown",
   "id": "0c1b291c",
   "metadata": {},
   "source": [
    "# This notebook derives from the excellent (EXCELLENT!) tutorial by Andrej Karpathy\n",
    "\n",
    "Make sure you have read and understand the material on derivatives, partial derivatives and chain rule before working on this<Br> \n",
    "\n",
    "<a href=\"https://www.youtube.com/watch?v=VMj-3S1tku0&list=PLAqhIrjkxbuWI23v9cThsA9GvCAUhRvKZ&ab_channel=AndrejKarpathy\">Micrograd Video</a><br>\n",
    "<a href=\"https://github.com/karpathy/micrograd\">Micrograd github repo</a>"
   ]
  },
  {
   "cell_type": "code",
   "execution_count": 1,
   "id": "0792da72",
   "metadata": {},
   "outputs": [],
   "source": [
    "import math\n",
    "import numpy as np\n",
    "import matplotlib.pyplot as plt\n",
    "%matplotlib inline"
   ]
  },
  {
   "cell_type": "markdown",
   "id": "370c7f59",
   "metadata": {},
   "source": [
    "# What is a derivitive?"
   ]
  },
  {
   "cell_type": "code",
   "execution_count": 27,
   "id": "ee7d87c6",
   "metadata": {},
   "outputs": [
    {
     "data": {
      "image/png": "[encoded data removed]",
      "text/plain": [
       "<Figure size 640x480 with 1 Axes>"
      ]
     },
     "metadata": {},
     "output_type": "display_data"
    }
   ],
   "source": [
    "def f(x):\n",
    "    return x**2\n",
    "\n",
    "x=np.arange(-5, 5, 0.1)\n",
    "y=f(x)\n",
    "plt.plot(x, y)\n",
    "#derivitave slope=> 2x it varies according to x.  \n",
    "# so at x=2, slope = 2*2 = 4,  equation of line at  is y=4*x +b\n",
    "# solve for b with x,y=(2,4)\n",
    "# y=4x+b\n",
    "# 4=4*2+b\n",
    "# b=-4\n",
    "plt.plot(x, 4*x+-4, label='derivitive');"
   ]
  },
  {
   "cell_type": "markdown",
   "id": "b0e44315",
   "metadata": {},
   "source": [
    "### Its really rise over run for a function at a particular point\n",
    "\n",
    "![](./der_formula.png)"
   ]
  },
  {
   "cell_type": "code",
   "execution_count": 3,
   "id": "17d7c855",
   "metadata": {},
   "outputs": [
    {
     "name": "stdout",
     "output_type": "stream",
     "text": [
      "Derivative for y=x**2 at x=3 is 6.000009999951316\n",
      "which agrees with dy/dx=2x evaluated at x=3 =6\n"
     ]
    }
   ],
   "source": [
    "#derivative at x=3 for y=x**2\n",
    "h = .00001\n",
    "\n",
    "print(f'Derivative for y=x**2 at x=3 is {((3 + h)**2 - 3**2 )/ h}')\n",
    "print(f'which agrees with dy/dx=2x evaluated at x=3 ={3*2}')\n",
    "\n"
   ]
  },
  {
   "cell_type": "markdown",
   "id": "eca4a0b7",
   "metadata": {},
   "source": [
    "# Partial Derivatives\n",
    "\n",
    "Just hold all other variables constant while evaluating the variable of interest<br>\n",
    "<mark>The derivative of a constant is 0 so it has no effect"
   ]
  },
  {
   "cell_type": "code",
   "execution_count": 4,
   "id": "78c93466",
   "metadata": {},
   "outputs": [
    {
     "name": "stdout",
     "output_type": "stream",
     "text": [
      "The derivative is 1.000000082740371\n"
     ]
    }
   ],
   "source": [
    "def showpartial():\n",
    "    h=.0000000001\n",
    "    a=2\n",
    "    b=3\n",
    "    c=4\n",
    "    d=a*b +c\n",
    "\n",
    "    # d1=((a+h)*b) + c      #dd/da=3\n",
    "    # d1=(a*(b+h)) +c       #dd/db=2\n",
    "    d1=(a*b) +(c+h)       #dd/dc=1\n",
    "    print(f'The derivative is {(d1-d)/h}')\n",
    "\n",
    "showpartial()\n",
    "\n",
    "#"
   ]
  },
  {
   "cell_type": "markdown",
   "id": "ee333a26",
   "metadata": {},
   "source": [
    "# Backpropagation using Chainrule\n",
    "\n",
    "You can walk these derivatives all the way back from the output to the variable of interest by multiplying (chaining) them together<br>\n",
    "This tells you what effect a change in that variable will have on the output<br>\n",
    "\n",
    "Each neuron in a neural net is typically represented like this<br>\n",
    "![](./simple_neuron.png)\n",
    "\n",
    "<br>\n",
    "<mark>But really its<br>   <strong>out= x1*w1 +x2*w2"
   ]
  },
  {
   "cell_type": "markdown",
   "id": "d0d55a29",
   "metadata": {},
   "source": [
    "### Lets put some numbers to the inputs"
   ]
  },
  {
   "cell_type": "code",
   "execution_count": 28,
   "id": "2eaedff1",
   "metadata": {},
   "outputs": [],
   "source": [
    "#for these numbers\n",
    "h=.00001    #the bit we add to see the change in output for numerical gradient\n",
    "x1=2\n",
    "x2=3\n",
    "w1=4\n",
    "w2=5\n",
    "x2w2=x2*w2  \n",
    "x1w1=x1*w1\n",
    "out=x1w1 +x2w2"
   ]
  },
  {
   "cell_type": "markdown",
   "id": "1e6ab6ba",
   "metadata": {},
   "source": [
    "\n",
    "\n",
    "With neural nets you use backprop to adjust parameters to get the desired output.<br>\n",
    "<mark>The parameters that you adjust are usually the weights (w1,w2) and biases(later), the inputs are fixed (x1,x2) so you cannot change them<br>\n",
    "Start at the end and go backward, using the chain rule to accumulate gradients (or derivatives)\n",
    "\n",
    "So if x1,x2,w1,w2 have the values on the left<br>\n",
    "The calculation flows through the neuron to give the output shown<br>\n",
    "\n",
    "![](./neuron_numbers.png)\n",
    "\n"
   ]
  },
  {
   "cell_type": "code",
   "execution_count": 29,
   "id": "3b1bdfb1",
   "metadata": {},
   "outputs": [
    {
     "name": "stdout",
     "output_type": "stream",
     "text": [
      "The local numerical gradient for out is 0.9999999999621422\n"
     ]
    }
   ],
   "source": [
    "#for the out node whats the gradient? dout/dout\n",
    "#its asking how a function changes relative to itself\n",
    "#dout/dout = 1\n",
    "\n",
    "out1=out+h #add a small bit to see how much the output changes\n",
    "gradout=(out1-out)/h\n",
    "print(f'The local numerical gradient for out is {gradout}')"
   ]
  },
  {
   "cell_type": "code",
   "execution_count": 30,
   "id": "3b2556ea",
   "metadata": {},
   "outputs": [
    {
     "name": "stdout",
     "output_type": "stream",
     "text": [
      "The local numerical gradient for x2w2 is 0.9999999999621422\n",
      "The backproped numerical gradient gradx2w2*gradout= 0.9999999999242843\n"
     ]
    }
   ],
   "source": [
    "#what about for x2w2 (dout/dx2w2?\n",
    "x2w2_1=(x2w2+h)     \n",
    "gradx2w2=(x2w2_1 - x2w2)/h\n",
    "print(f'The local numerical gradient for x2w2 is {gradx2w2}')\n",
    "\n",
    "#x1*w1 is held constant since we want to find the gradient with respect to x2w2\n",
    "#so dout/dx2w2 = d(x2*w2 +constant)/dx2w2=d(x2*w2)/dx2w2=1\n",
    "\n",
    "print(f'The backproped numerical gradient gradx2w2*gradout= {gradx2w2*gradout}')\n",
    "\n",
    "#dout/dx2dw2=dout/dout *dout/dx2dw2 = 1*1=1"
   ]
  },
  {
   "cell_type": "code",
   "execution_count": 31,
   "id": "99a0fdb4",
   "metadata": {},
   "outputs": [
    {
     "name": "stdout",
     "output_type": "stream",
     "text": [
      "The local numerical gradient for dx2w2/dw2 is 2.9999999998864264\n",
      "The backproped numerical gradient gradx2w2*gradout= 2.999999999659279\n"
     ]
    }
   ],
   "source": [
    "#ok now what about w2 (dx2w2/dw2)\n",
    "w2_1=(w2+h)\n",
    "\n",
    "gradx2w2_w2=(x2*w2_1 - x2w2)/h\n",
    "print(f'The local numerical gradient for dx2w2/dw2 is {gradx2w2_w2}')\n",
    "print(f'The backproped numerical gradient gradx2w2*gradout= {gradx2w2_w2*gradx2w2*gradout}')\n",
    "\n",
    "#or dx2w2/dw2=((x2*(w2+h))-(x2*w2))/h=(x2*h)/h=x2\n",
    "\n",
    "#dout/dw2=dout/dout *dout/dx2dw2 *dx2w2/dw2=1*1*x2=x2=3\n",
    "\n",
    "#says w2 has a positive effect on out, add a little it goes up"
   ]
  },
  {
   "cell_type": "markdown",
   "id": "3fb4249a",
   "metadata": {},
   "source": [
    "## Here is the graph will all the gradients added\n",
    "\n",
    "![](./neuron_with_grads_values.png)\n"
   ]
  },
  {
   "cell_type": "markdown",
   "id": "f76cbfef",
   "metadata": {},
   "source": [
    "### <mark>What the gradients tell us, is what effect on the output a change in the input will have.  The bigger the gradient, the bigger the change"
   ]
  },
  {
   "cell_type": "code",
   "execution_count": 26,
   "id": "e39632c0",
   "metadata": {},
   "outputs": [
    {
     "name": "stdout",
     "output_type": "stream",
     "text": [
      "out goes from 23 to 23.4\n"
     ]
    }
   ],
   "source": [
    "def f():\n",
    "    #for these numbers\n",
    "    h=.00001    #the bit we add to see the change in output\n",
    "    x1=2\n",
    "    x2=3\n",
    "    w1=4\n",
    "    w2=5  \n",
    "    x2w2=x2*w2  \n",
    "    x1w1=x1*w1\n",
    "    out=x1w1 +x2w2\n",
    "\n",
    "    #show gradient increases\n",
    "    w1=w1+.1*(2)\n",
    "    x1w1=x1*w1\n",
    "\n",
    "    #show gradient increases\n",
    "    # w2=w2+.1*(3)\n",
    "    # x2w2=x2*w2\n",
    "\n",
    "    out1=x1w1 +x2w2\n",
    "    print(f'out goes from {out} to {out1}')\n",
    "f()"
   ]
  },
  {
   "cell_type": "markdown",
   "id": "7b971904",
   "metadata": {},
   "source": [
    "# Add in the error function\n",
    "\n",
    "<mark>If the output is an error function that you want to drive to 0, then move the variable of interest in the negative direction of the gradient chain to lower the output"
   ]
  },
  {
   "cell_type": "markdown",
   "id": "0bc0856c",
   "metadata": {},
   "source": [
    "### So given this Error Function<br>\n",
    "\n",
    "Error=1/2(out-correct)**2\n"
   ]
  },
  {
   "cell_type": "markdown",
   "id": "a0b7702f",
   "metadata": {},
   "source": [
    "### If you pipe the neuron into the error(loss) function, and calculate the gradients the graph looks like this\n",
    "\n",
    "\n",
    "![](./complete_with_grad.png)\n",
    "\n"
   ]
  },
  {
   "cell_type": "markdown",
   "id": "bb41c63e",
   "metadata": {},
   "source": [
    "##  <mark>So now we know how to do derivatives, partial derivatives, and backpropagate these through a graph by hand. We also know how to pipe the output into an error function, and we want that error to be 0 (so the network produces the correct output). And finally we can use the backpropagated derivatives to change the values of the weights to make the error function go to 0\n",
    "\n",
    "<mark>This is both the forward and backward pass for a neural network, but we dont want to do it by hand, we want to automate it. Lets build a class for that"
   ]
  },
  {
   "cell_type": "markdown",
   "id": "49052b64",
   "metadata": {},
   "source": []
  }
 ],
 "metadata": {
  "kernelspec": {
   "display_name": "p311",
   "language": "python",
   "name": "python3"
  },
  "language_info": {
   "codemirror_mode": {
    "name": "ipython",
    "version": 3
   },
   "file_extension": ".py",
   "mimetype": "text/x-python",
   "name": "python",
   "nbconvert_exporter": "python",
   "pygments_lexer": "ipython3",
   "version": "3.11.5"
  }
 },
 "nbformat": 4,
 "nbformat_minor": 5
}
