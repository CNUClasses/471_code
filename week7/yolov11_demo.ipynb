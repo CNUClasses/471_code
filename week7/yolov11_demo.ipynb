{
 "cells": [
  {
   "cell_type": "markdown",
   "id": "4882e59a",
   "metadata": {},
   "source": [
    "\n",
    "# 🚀 YOLOv11: Object Detection Demo (Install → mAP/IoU → Fine‑tune → License)\n",
    "\n",
    "This notebook introduces **YOLOv11** using the Ultralytics package. You'll:\n",
    "- Install and verify the `ultralytics` package (YOLO CLI + Python API).\n",
    "- Run a quick **inference** demo.\n",
    "- Understand **IoU** and **mAP** with small, concrete examples.\n",
    "- **Fine‑tune** a YOLOv11 model on a toy dataset and evaluate.\n",
    "- Review **licensing** considerations for research vs. commercial use.\n",
    "\n",
    "> **Note:** Cells that download models/data require internet access in your environment.\n"
   ]
  },
  {
   "cell_type": "markdown",
   "id": "377d0039",
   "metadata": {},
   "source": [
    "## 0) Install Ultralytics"
   ]
  },
  {
   "cell_type": "code",
   "execution_count": null,
   "id": "59faa35c",
   "metadata": {},
   "outputs": [],
   "source": [
    "\n",
    "# If not installed, uncomment the next line\n",
    "# !pip install -U ultralytics\n",
    "\n",
    "import sys, torch\n",
    "print('Python:', sys.version)\n",
    "print('PyTorch:', torch.__version__)\n",
    "\n",
    "try:\n",
    "    import ultralytics\n",
    "    from ultralytics import YOLO\n",
    "    print('Ultralytics:', ultralytics.__version__)\n",
    "except Exception as e:\n",
    "    print(\"Ultralytics not available yet. Run pip install above.\\n\", e)\n"
   ]
  },
  {
   "cell_type": "markdown",
   "id": "a1285f2d",
   "metadata": {},
   "source": [
    "## 1) Quick Start: Pretrained Inference"
   ]
  },
  {
   "cell_type": "code",
   "execution_count": null,
   "id": "b65b619e",
   "metadata": {},
   "outputs": [],
   "source": [
    "\n",
    "from ultralytics import YOLO\n",
    "\n",
    "MODEL = 'yolo11n.pt'  # or 'yolo11s.pt'\n",
    "model = YOLO(MODEL)\n",
    "\n",
    "# Predict on a sample image (downloads on first run)\n",
    "pred = model.predict(source='https://ultralytics.com/images/bus.jpg', save=True, imgsz=640)\n",
    "pred[0].boxes[:5] if len(pred) else print(\"No result\")\n"
   ]
  },
  {
   "cell_type": "markdown",
   "id": "3db7f8c8",
   "metadata": {},
   "source": [
    "## 2) Metrics: IoU and mAP (What they mean)"
   ]
  },
  {
   "cell_type": "markdown",
   "id": "559f9bf2",
   "metadata": {},
   "source": [
    "\n",
    "**Intersection over Union (IoU)** measures how well a predicted box overlaps a ground‑truth box:\n",
    "\\[ \\text{IoU} = \\frac{\\text{Area}(\\text{Pred} \\cap \\text{GT})}{\\text{Area}(\\text{Pred} \\cup \\text{GT})} \\]\n",
    "- IoU ∈ [0, 1]. Higher is better; an IoU of 0.5 is common as a positive match threshold.\n",
    "\n",
    "**Average Precision (AP)** summarizes the **precision–recall** curve for one class at a given IoU threshold.\n",
    "\n",
    "**mAP** is the **mean AP across classes**, sometimes averaged across multiple IoU thresholds:\n",
    "- **mAP@0.5** (VOC style)\n",
    "- **mAP@0.5:0.95** (COCO style)\n"
   ]
  },
  {
   "cell_type": "code",
   "execution_count": null,
   "id": "c5a3b804",
   "metadata": {},
   "outputs": [],
   "source": [
    "\n",
    "# Simple IoU demo for axis-aligned boxes (x1, y1, x2, y2)\n",
    "def box_iou(a, b):\n",
    "    ax1, ay1, ax2, ay2 = a\n",
    "    bx1, by1, bx2, by2 = b\n",
    "    inter_x1, inter_y1 = max(ax1, bx1), max(ay1, by1)\n",
    "    inter_x2, inter_y2 = min(ax2, bx2), min(ay2, by2)\n",
    "    inter_w = max(0.0, inter_x2 - inter_x1)\n",
    "    inter_h = max(0.0, inter_y2 - inter_y1)\n",
    "    inter = inter_w * inter_h\n",
    "    area_a = (ax2 - ax1) * (ay2 - ay1)\n",
    "    area_b = (bx2 - bx1) * (by2 - by1)\n",
    "    union = area_a + area_b - inter\n",
    "    return inter / union if union > 0 else 0.0\n",
    "\n",
    "gt = (10, 10, 50, 50)\n",
    "preds = [(12, 12, 48, 48), (40, 40, 80, 80), (60, 60, 90, 90)]\n",
    "[round(box_iou(gt, p), 3) for p in preds]\n"
   ]
  },
  {
   "cell_type": "markdown",
   "id": "7b5226d9",
   "metadata": {},
   "source": [
    "## 3) Evaluate on a small dataset (COCO128)"
   ]
  },
  {
   "cell_type": "code",
   "execution_count": null,
   "id": "b1f3c3ac",
   "metadata": {},
   "outputs": [],
   "source": [
    "\n",
    "from ultralytics import YOLO\n",
    "model = YOLO('yolo11n.pt')\n",
    "metrics = model.val(data='coco128.yaml', imgsz=640)  # downloads tiny dataset\n",
    "metrics.box.map, metrics.box.map50, metrics.box.maps[:5]\n"
   ]
  },
  {
   "cell_type": "markdown",
   "id": "58383868",
   "metadata": {},
   "source": [
    "## 4) Fine‑tuning YOLOv11 (custom data)"
   ]
  },
  {
   "cell_type": "markdown",
   "id": "5424ad20",
   "metadata": {},
   "source": [
    "\n",
    "### YOLO data.yaml\n",
    "```yaml\n",
    "path: /path/to/dataset\n",
    "train: images/train\n",
    "val:   images/val\n",
    "names:\n",
    "  0: classA\n",
    "  1: classB\n",
    "```\n",
    "\n",
    "### CLI\n",
    "```bash\n",
    "yolo detect train model=yolo11s.pt data=/path/to/data.yaml imgsz=640 epochs=50 batch=16 amp=True\n",
    "```\n",
    "\n",
    "### Python API\n",
    "```python\n",
    "from ultralytics import YOLO\n",
    "model = YOLO('yolo11s.pt')\n",
    "results = model.train(data='/path/to/data.yaml', imgsz=640, epochs=50, batch=16, optimizer='AdamW', amp=True)\n",
    "```\n"
   ]
  },
  {
   "cell_type": "markdown",
   "id": "036ad380",
   "metadata": {},
   "source": [
    "## 5) Licensing notes"
   ]
  },
  {
   "cell_type": "markdown",
   "id": "e1284028",
   "metadata": {},
   "source": [
    "\n",
    "Ultralytics YOLOv11 is distributed under **AGPL‑3.0** by default. For **commercial distribution** (shipping products or services),\n",
    "either comply with AGPL‑3.0 obligations or obtain a **commercial license** from Ultralytics.\n",
    "\n",
    "Always check the latest terms on Ultralytics’ website before deployment.\n"
   ]
  }
 ],
 "metadata": {},
 "nbformat": 4,
 "nbformat_minor": 5
}
