{
 "cells": [
  {
   "cell_type": "markdown",
   "id": "407e8189",
   "metadata": {},
   "source": [
    "\n",
    "# 📘 Mini Notebook: IoU, NMS, and mAP (Short & Practical)\n",
    "\n",
    "**What you'll do:**  \n",
    "1. Implement **IoU** for axis-aligned boxes.  \n",
    "2. Run a tiny **NMS** example and see how the threshold changes the kept boxes.  \n",
    "3. Compute a very simple **AP@0.5** and **mAP@0.5** on toy data.\n"
   ]
  },
  {
   "cell_type": "markdown",
   "id": "44b57e8b",
   "metadata": {},
   "source": [
    "## 0) Imports"
   ]
  },
  {
   "cell_type": "code",
   "execution_count": 3,
   "id": "9cf57452",
   "metadata": {},
   "outputs": [],
   "source": [
    "\n",
    "import numpy as np\n",
    "import matplotlib.pyplot as plt\n",
    "plt.rcParams['figure.figsize'] = (5, 4)\n"
   ]
  },
  {
   "cell_type": "markdown",
   "id": "1e82eff2",
   "metadata": {},
   "source": [
    "## 1) IoU — Intersection over Union"
   ]
  },
  {
   "cell_type": "code",
   "execution_count": 4,
   "id": "c6781048",
   "metadata": {},
   "outputs": [
    {
     "name": "stdout",
     "output_type": "stream",
     "text": [
      "[0.81, 0.032, 0.0]\n"
     ]
    }
   ],
   "source": [
    "\n",
    "def box_area(box):\n",
    "    x1,y1,x2,y2 = box\n",
    "    return max(0.0, x2-x1) * max(0.0, y2-y1)\n",
    "\n",
    "def iou(a, b):\n",
    "    ax1, ay1, ax2, ay2 = a\n",
    "    bx1, by1, bx2, by2 = b\n",
    "    inter_x1, inter_y1 = max(ax1, bx1), max(ay1, by1)\n",
    "    inter_x2, inter_y2 = min(ax2, bx2), min(ay2, by2)\n",
    "    inter_w = max(0.0, inter_x2 - inter_x1)\n",
    "    inter_h = max(0.0, inter_y2 - inter_y1)\n",
    "    inter = inter_w * inter_h\n",
    "    union = box_area(a) + box_area(b) - inter\n",
    "    return inter/union if union > 0 else 0.0\n",
    "\n",
    "gt  = (10, 10, 50, 50)\n",
    "preds = [(12,12,48,48), (40,40,80,80), (60,60,90,90)]\n",
    "print([round(iou(p, gt), 3) for p in preds])\n"
   ]
  },
  {
   "cell_type": "markdown",
   "id": "d9addb14",
   "metadata": {},
   "source": [
    "## 2) NMS — Non‑Max Suppression"
   ]
  },
  {
   "cell_type": "code",
   "execution_count": 5,
   "id": "190503a1",
   "metadata": {},
   "outputs": [
    {
     "name": "stdout",
     "output_type": "stream",
     "text": [
      "nms_thresh=0.3 -> kept indices [0, 2] -> kept boxes [(10, 10, 50, 50), (60, 60, 100, 100)]\n",
      "nms_thresh=0.5 -> kept indices [0, 2] -> kept boxes [(10, 10, 50, 50), (60, 60, 100, 100)]\n",
      "nms_thresh=0.7 -> kept indices [0, 2] -> kept boxes [(10, 10, 50, 50), (60, 60, 100, 100)]\n"
     ]
    }
   ],
   "source": [
    "\n",
    "def nms_greedy(boxes, scores, thresh=0.5):\n",
    "    idxs = list(range(len(boxes)))\n",
    "    idxs.sort(key=lambda i: scores[i], reverse=True)\n",
    "    keep = []\n",
    "    while idxs:\n",
    "        i = idxs.pop(0)\n",
    "        keep.append(i)\n",
    "        idxs = [j for j in idxs if iou(boxes[i], boxes[j]) <= thresh]\n",
    "    return keep\n",
    "\n",
    "boxes  = [(10,10,50,50), (12,12,48,48), (60,60,100,100), (15,15,49,49)]\n",
    "scores = [0.90, 0.85, 0.70, 0.60]\n",
    "\n",
    "for thr in [0.3, 0.5, 0.7]:\n",
    "    keep = nms_greedy(boxes, scores, thresh=thr)\n",
    "    print(f\"nms_thresh={thr:.1f} -> kept indices {keep} -> kept boxes {[boxes[i] for i in keep]}\")\n"
   ]
  },
  {
   "cell_type": "markdown",
   "id": "5c4d2f6e",
   "metadata": {},
   "source": [
    "## 3) AP@0.5 and mAP@0.5 (toy calculation)"
   ]
  },
  {
   "cell_type": "code",
   "execution_count": null,
   "id": "dc0f2884",
   "metadata": {},
   "outputs": [],
   "source": [
    "def match_tpfp(preds, gts, iou_thresh=0.5):\n",
    "    # preds: list of (box, score); gts: list of boxes\n",
    "    preds_sorted = sorted(preds, key=lambda x: x[1], reverse=True)\n",
    "    matched = [False]*len(gts)\n",
    "    tp_flags = []\n",
    "    for (box_p, s) in preds_sorted:\n",
    "        best_iou, best_j = 0.0, -1\n",
    "        for j, box_g in enumerate(gts):\n",
    "            if not matched[j]:\n",
    "                iou_val = iou(box_p, box_g)\n",
    "                if iou_val > best_iou:\n",
    "                    best_iou, best_j = iou_val, j\n",
    "        if best_iou >= iou_thresh and best_j != -1:\n",
    "            matched[best_j] = True\n",
    "            tp_flags.append(True)\n",
    "        else:\n",
    "            tp_flags.append(False)\n",
    "    return tp_flags\n",
    "\n",
    "def precision_recall(tp_flags, num_gt):\n",
    "    tp=fp=0; prec=[]; rec=[]\n",
    "    for is_tp in tp_flags:\n",
    "        tp += 1 if is_tp else 0\n",
    "        fp += 0 if is_tp else 1\n",
    "        prec.append(tp/(tp+fp))\n",
    "        rec.append(tp/num_gt if num_gt>0 else 0.0)\n",
    "    return np.array(prec), np.array(rec)\n",
    "\n",
    "def ap11(prec, rec):\n",
    "    ap=0.0\n",
    "    for r in np.linspace(0,1,11):\n",
    "        ap += np.max(prec[rec>=r]) if np.any(rec>=r) else 0.0\n",
    "    return ap/11.0\n",
    "\n",
    "# Class A\n",
    "gts_A = [(10,10,50,50), (60,60,100,100), (120,120,160,160)]\n",
    "preds_A = [((12,12,48,48),0.95), ((58,58,98,98),0.90), ((20,20,40,40),0.60), ((118,118,158,158),0.55), ((200,200,240,240),0.50)]\n",
    "flags_A = match_tpfp(preds_A, gts_A, iou_thresh=0.5)\n",
    "pA, rA = precision_recall(flags_A, num_gt=len(gts_A))\n",
    "AP_A = ap11(pA, rA)\n",
    "\n",
    "# Class B\n",
    "gts_B = [(30,30,70,70)]\n",
    "preds_B = [((32,32,68,68),0.85), ((120,120,160,160),0.40)]\n",
    "flags_B = match_tpfp(preds_B, gts_B, iou_thresh=0.5)\n",
    "pB, rB = precision_recall(flags_B, num_gt=len(gts_B))\n",
    "AP_B = ap11(pB, rB)\n",
    "\n",
    "mAP = (AP_A + AP_B) / 2\n",
    "print(f\"AP_A@0.5={AP_A:.3f} | AP_B@0.5={AP_B:.3f} | mAP@0.5={mAP:.3f}\")\n",
    "\n",
    "# PR curve for class A\n",
    "import matplotlib.pyplot as plt\n",
    "plt.plot(rA, pA, marker='o')\n",
    "plt.title(\"Precision–Recall (Class A, toy)\")\n",
    "plt.xlabel(\"Recall\"); plt.ylabel(\"Precision\"); plt.ylim(0,1.05); plt.xlim(0,1.0); plt.grid(alpha=0.3)\n",
    "plt.show()\n"
   ]
  },
  {
   "cell_type": "markdown",
   "id": "21bc76cb",
   "metadata": {},
   "source": [
    "\n",
    "### ✅ Try it\n",
    "- Change a **score** to reorder predictions, recompute AP.  \n",
    "- Move a box closer so IoU≥0.5 — AP increases.  \n",
    "- Set IoU threshold to 0.75 for a stricter score.\n"
   ]
  }
 ],
 "metadata": {
  "kernelspec": {
   "display_name": "p311",
   "language": "python",
   "name": "python3"
  },
  "language_info": {
   "codemirror_mode": {
    "name": "ipython",
    "version": 3
   },
   "file_extension": ".py",
   "mimetype": "text/x-python",
   "name": "python",
   "nbconvert_exporter": "python",
   "pygments_lexer": "ipython3",
   "version": "3.11.5"
  }
 },
 "nbformat": 4,
 "nbformat_minor": 5
}
